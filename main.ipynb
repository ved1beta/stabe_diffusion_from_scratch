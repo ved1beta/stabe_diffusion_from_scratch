{
 "cells": [
  {
   "cell_type": "markdown",
   "id": "3937cc51-81fc-4e95-81bf-fec8bd710f98",
   "metadata": {},
   "source": [
    "no no "
   ]
  },
  {
   "cell_type": "code",
   "execution_count": 1,
   "id": "61f75858-cefd-4ac3-a714-a01141931956",
   "metadata": {},
   "outputs": [],
   "source": [
    "from copy import deepcopy\n",
    "import numpy as np \n"
   ]
  },
  {
   "cell_type": "code",
   "execution_count": 7,
   "id": "9e64770c-9ac5-4cf1-ab92-b73c399338e3",
   "metadata": {},
   "outputs": [],
   "source": [
    "def feed_fr(inputs , weights , outputs):\n",
    "    pre_hidden=np.dot(inputs,weights[0])+ weights[1]\n",
    "    hidden = 1/(1+n.exp(-pre_hidden))\n",
    "    pred_out= np.dot(hidden, weights[2])+weights[3]\n",
    "    mean_squared_error = np.mean(np.square(pred_out - outputs))\n",
    "    return mean_squared_error"
   ]
  },
  {
   "cell_type": "code",
   "execution_count": 9,
   "id": "89cb6aa7-5b39-4951-aa88-184721f0bf0d",
   "metadata": {},
   "outputs": [
    {
     "ename": "NameError",
     "evalue": "name 'weights' is not defined",
     "output_type": "error",
     "traceback": [
      "\u001b[0;31m---------------------------------------------------------------------------\u001b[0m",
      "\u001b[0;31mNameError\u001b[0m                                 Traceback (most recent call last)",
      "Cell \u001b[0;32mIn[9], line 1\u001b[0m\n\u001b[0;32m----> 1\u001b[0m original_weights \u001b[38;5;241m=\u001b[39m deepcopy(\u001b[43mweights\u001b[49m)\n\u001b[1;32m      2\u001b[0m temp_weights \u001b[38;5;241m=\u001b[39m deepcopy(weights)\n\u001b[1;32m      3\u001b[0m updated_weights \u001b[38;5;241m=\u001b[39m deepcopy(weights)\n",
      "\u001b[0;31mNameError\u001b[0m: name 'weights' is not defined"
     ]
    }
   ],
   "source": []
  },
  {
   "cell_type": "code",
   "execution_count": null,
   "id": "b56141ea-17ba-4297-83f7-421ab08ffaa9",
   "metadata": {},
   "outputs": [],
   "source": [
    "def update_weights(inputs, outputs, weights, lr):\n",
    "   original_weights = deepcopy(weights)\n",
    "   temp_weights = deepcopy(weights)\n",
    "   updated_weights = deepcopy(weights)\n",
    "   for i, layer in enumerate(original_weights):\n",
    "        for index, weight in np.ndenumerate(layer):\n",
    "                temp_weights = deepcopy(weights)\n",
    "                temp_weights[i][index] += 0.0001\n",
    "                _loss_plus = feed_forward(inputs, outputs, temp_weights)\n",
    "                updated_weights[i][index] -= grad*lr\n",
    "                return updated_weights, original_loss\n",
    "    "
   ]
  },
  {
   "cell_type": "code",
   "execution_count": null,
   "id": "f2407bbc-46a8-472b-8453-722589ab3e29",
   "metadata": {},
   "outputs": [],
   "source": []
  }
 ],
 "metadata": {
  "kernelspec": {
   "display_name": "Python 3 (ipykernel)",
   "language": "python",
   "name": "python3"
  },
  "language_info": {
   "codemirror_mode": {
    "name": "ipython",
    "version": 3
   },
   "file_extension": ".py",
   "mimetype": "text/x-python",
   "name": "python",
   "nbconvert_exporter": "python",
   "pygments_lexer": "ipython3",
   "version": "3.10.13"
  }
 },
 "nbformat": 4,
 "nbformat_minor": 5
}
