{
 "cells": [
  {
   "cell_type": "markdown",
   "id": "3937cc51-81fc-4e95-81bf-fec8bd710f98",
   "metadata": {},
   "source": [
    "no no "
   ]
  },
  {
   "cell_type": "code",
   "execution_count": 11,
   "id": "4753c3a7-6849-4d50-b9a9-339f23378834",
   "metadata": {},
   "outputs": [],
   "source": [
    "from pathlib import Path\n",
    "import pickle , gzip , math , os , time , shutil , matplotlib as apl , matplotlib.pyplot as plt"
   ]
  },
  {
   "cell_type": "code",
   "execution_count": 12,
   "id": "b9fcbe49-c7f3-41f8-a378-4fc0ceebdb58",
   "metadata": {},
   "outputs": [],
   "source": [
    "\n",
    "# grtting data \n",
    "MNIST_URL = \"https://github.com/mnielsen/neural-networks-and-deep-learning/blob/master/data/mnist.pkl.gz?raw=true\"\n",
    "path_data= Path('data')\n",
    "path_data.mkdir(exist_ok=True)\n",
    "path_gz= path_data/\"minst.pkl.gz\""
   ]
  },
  {
   "cell_type": "code",
   "execution_count": 13,
   "id": "a640f8bb-9121-40fa-ae18-bb1c75a2dfd1",
   "metadata": {},
   "outputs": [],
   "source": [
    "from urllib.request import urlretrieve\n"
   ]
  },
  {
   "cell_type": "code",
   "execution_count": 14,
   "id": "a55b7a07-bc67-4ae2-b618-5d0a85d53624",
   "metadata": {},
   "outputs": [],
   "source": [
    "if not path_gz.exists(): urlretrieve(MNIST_URL, path_gz)\n",
    "    "
   ]
  },
  {
   "cell_type": "code",
   "execution_count": 15,
   "id": "019158fb-4a7d-4e93-b452-1589d107a685",
   "metadata": {},
   "outputs": [
    {
     "name": "stdout",
     "output_type": "stream",
     "text": [
      "total 16656\n",
      "-rw-r--r-- 1 ved ved 17051982 Sep 24 19:21 minst.pkl.gz\n"
     ]
    }
   ],
   "source": [
    "!ls -l data "
   ]
  },
  {
   "cell_type": "code",
   "execution_count": 16,
   "id": "8c80f0a5-fa2d-43c0-8999-dd108ffbc749",
   "metadata": {},
   "outputs": [],
   "source": [
    "with gzip.open(path_gz, 'rb') as f: ((x_train, y_train),(x_valid, y_valid), _)= pickle.load(f, encoding=\"latin-1\")\n",
    "                                                                                            "
   ]
  },
  {
   "cell_type": "code",
   "execution_count": null,
   "id": "01eca66f-3e88-40e0-91f5-38c91d8014d0",
   "metadata": {},
   "outputs": [],
   "source": []
  },
  {
   "cell_type": "code",
   "execution_count": null,
   "id": "61f75858-cefd-4ac3-a714-a01141931956",
   "metadata": {},
   "outputs": [],
   "source": []
  }
 ],
 "metadata": {
  "kernelspec": {
   "display_name": "Python 3 (ipykernel)",
   "language": "python",
   "name": "python3"
  },
  "language_info": {
   "codemirror_mode": {
    "name": "ipython",
    "version": 3
   },
   "file_extension": ".py",
   "mimetype": "text/x-python",
   "name": "python",
   "nbconvert_exporter": "python",
   "pygments_lexer": "ipython3",
   "version": "3.10.13"
  }
 },
 "nbformat": 4,
 "nbformat_minor": 5
}
